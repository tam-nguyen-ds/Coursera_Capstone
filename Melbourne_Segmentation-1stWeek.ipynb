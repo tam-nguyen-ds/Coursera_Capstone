{
 "cells": [
  {
   "cell_type": "markdown",
   "metadata": {},
   "source": [
    "# __Where to open a new café in Melbourne?: Neighbourhood Segmentation & Analysis__\n",
    "# Introduction/Business Problem\n",
    "\n",
    "Melbourne is an eventful and multicultural city. The food service industry is thriving, making an impressive contributions to the national economy each year even though the majority of restaurants and café in the country are small businesses. While it is exciting to start a new café business, there are a lot that need to be in the must-do list, such as design a menu, create a detailed business plan, invest in human assets, and the list can go on...\n",
    "\n",
    "Location is (_nearly_) everything to a business success. Even the best dishes and most resourceful staff cannot overcome a challenging venue that lacks potential regular customers or is overwhelmed by abundantly existing competitors, especially when the business is completely new. Many times it is very tempting to choose a busy and attractive spot in the area to set up the business, but even the busiest and most attractive of locations can hinder a successful business.  In this project, the location to open a café in Melbourne is the key aspect that I will strive to give recommendations on, using available datasets.\n",
    "\n",
    "\n",
    "# Data\n",
    "The data used in this project include:\n",
    "\n",
    "<strong>1. Australian postcodes</strong>: contains an up-to-date database of Australian Postcodes and Localities, including accurate longitude and latitude values, sourced by and supported by the community. From this data set, a set of postcodes belong to Melbourne will be extracted. The dataset is downloaded from this source: <a href='https://www.matthewproctor.com/australian_postcodes' target='blank'>Australian Postcodes</a>\n",
    "\n",
    "The dataset contains 18,272 entries, covering 8 states in Australia. There are 14 columns as the table below.  \n",
    "        \n",
    "        \n",
    "| **Field**     | Description                                                                                                                                            | Example    |\n",
    "|-----------|--------------------------------------------------------------------------------------------------------------------------------------------------------|------------|\n",
    "| **id**        | id of the postcode                                                                                                                                     | 20604           |\n",
    "| **postcode**  | The postcode in numerical format - 0000 to 9999                                                                                                        | 3000       |\n",
    "| **locality**  | typically the city/suburb or postal distribution centre                                                                                                | Melbourne  |\n",
    "| **state**     | the state in Australia                                                                                                                                 | VIC        |\n",
    "| **latitude**  | latitude of the locality                                                                                                                               | 144.956776 |\n",
    "| **longitude** | longitude of the locality                                                                                                                              | -37.817403 |\n",
    "| **dc**        | distribution centre                                                                                                                                    | MELBOURNE  |\n",
    "| **type**      | The type of locality, such as a delivery area, post office or a \"Large Volume Recipient\", defaults to blank when not available                                                               | LVR        |\n",
    "| **sa3**       | Statistical Areas Level 3 code. More info: <a href='https://itt.abs.gov.au/itt/r.jsp?databyregion' target='blank'>Australian Bureau of Statistics</a> | 215        |\n",
    "| **sa3name**   | Statistical Areas Level 3 name                                                                                                                         | North West |\n",
    "| **sa4**       | Statistical Areas Level 4 code                                                                                                                         | 21501      |\n",
    "| **sa4name**   | Statistical Areas Level 4 name                                                                                                                         | Grampians  |\n",
    "| **region**    | designated regional area                                                                                                                               | R1         |\n",
    "| **status**    | indicating if the data is new, removed, or updated                                                                                                     | Updated    |\n",
    "\n",
    "\n",
    "        \n",
    "\n",
    "\n",
    "<strong>2. Melbourne venue data retrieved using Foursquare API</strong>: Using extracted Melbourne postcodes and Foursquare API, data consisting of venues in Melbourne is retrieved. The retrieved data will be put into a dataframe, consisting of 7 columns:\n",
    "\n",
    "| Field                   | Description                        | Example        |\n",
    "|-------------------------|------------------------------------|----------------|\n",
    "| **neighbourhood**           | name of the neighbourhood (suburb) | Melbourne City |\n",
    "| **neighbourhood latitude**  | latitude of the neighbourhood      | -37.817403     |\n",
    "| **neighbourhood longitude** | longitude of the neighbourhood     | 144.956776     |\n",
    "| **Venue**                   | name of the venue                  | Royal Stacks   |\n",
    "| **Venue latitude**          | latitude of the venue              | -37.817867     |\n",
    "| **Venue longitude**         | longitude of the venue             | 144.958489     |\n",
    "| **Venue Category**          | category of the venue              | Burger Joint   |\n",
    "\n",
    "\n",
    "# Main tasks:\n",
    "Main tasks performed include: (1) Retrieve Melbourne postcodes & coordinates; (2) Foursquare API: Venues in Melbourne; (3) Exploring & clustering the neighborhoods in Melbourne; (4) Examine clusters; and (5) Provide recommendations on the suburbs (neighbourhoods) to open a new café.\n",
    "\n",
    "\n",
    "\n"
   ]
  },
  {
   "cell_type": "code",
   "execution_count": null,
   "metadata": {},
   "outputs": [],
   "source": []
  }
 ],
 "metadata": {
  "kernelspec": {
   "display_name": "Python",
   "language": "python",
   "name": "conda-env-python-py"
  },
  "language_info": {
   "codemirror_mode": {
    "name": "ipython",
    "version": 3
   },
   "file_extension": ".py",
   "mimetype": "text/x-python",
   "name": "python",
   "nbconvert_exporter": "python",
   "pygments_lexer": "ipython3",
   "version": "3.6.10"
  }
 },
 "nbformat": 4,
 "nbformat_minor": 4
}
